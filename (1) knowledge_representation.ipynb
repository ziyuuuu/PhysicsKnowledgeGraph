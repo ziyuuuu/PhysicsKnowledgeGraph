{
 "cells": [
  {
   "cell_type": "markdown",
   "metadata": {},
   "source": [
    "Here, we attempt to create a knowledge graph to represent knowledge in Physics equations from the Feynman lectures in Physics. The full list of Physics equations is provided by at https://space.mit.edu/home/tegmark/aifeynman/FeynmanEquations.csv\n",
    "\n",
    "Importing the equations using a function and creating some helper functions to clean the equations:"
   ]
  },
  {
   "cell_type": "code",
   "execution_count": 1,
   "metadata": {},
   "outputs": [],
   "source": [
    "import csv\n",
    "import pandas as pd\n",
    "import numpy as np\n",
    "import networkx as nx\n",
    "import sympy\n",
    "import math\n",
    "import matplotlib.pyplot as plt \n",
    "\n",
    "def add_slash(i):\n",
    "  if i != i: return\n",
    "  greek = ['alpha','beta', 'chi', 'delta', 'epsilon', 'gamma', 'mu', 'lambd', 'rho', 'omega', 'sigma', 'theta', 'tau', 'pi', 'kappa']\n",
    "  for symbol in greek:\n",
    "    if symbol in i: \n",
    "      if symbol == 'lambd': return i.replace(\"lambd\", \"\\lambda\") # change to lambda here, only affects the latex form not the original node\n",
    "      return i.replace(\"%s\" %symbol, \"\\%s\" %symbol)\n",
    "    else: continue\n",
    "  return i\n",
    "\n",
    "def add_brackets_to_underscores(i):\n",
    "  index = i.find(\"_\")\n",
    "  # print(\"1\", i)\n",
    "  if index == -1: return i\n",
    "  else: \n",
    "    # print(\"1\", i[0:index+1] +\"{\" + i[index+1:] + \"}\")\n",
    "    return i[0:index+1] +\"{\" + i[index+1:] + \"}\"\n",
    "\n",
    "def to_relationship(ls):\n",
    "  for i in ls:\n",
    "    return '$R('+','.join(list(map(add_slash, [add_brackets_to_underscores(x) for x in ls if x==x])))+')$'\n",
    "\n",
    "\n",
    "def import_equations(source = \"https://space.mit.edu/home/tegmark/aifeynman/FeynmanEquations.csv\"):\n",
    "    all_mysteries = pd.read_csv(source, header = 0, index_col= 'Filename', na_values=[\"nan\", \"\"])\n",
    "    all_mysteries = all_mysteries.dropna(how = \"all\")\n",
    "\n",
    "\n",
    "    # all_mysteries['Relevant_variables'] = all_mysteries[['Output']+['v%s_name' %i for i in range(1,10)]].values.tolist()\n",
    "\n",
    "    # all_mysteries['Relationship'] = all_mysteries['Relevant_variables'].apply(to_relationship)\n",
    "    return all_mysteries\n",
    "\n",
    "# print(import_equations())"
   ]
  },
  {
   "cell_type": "markdown",
   "metadata": {},
   "source": [
    "Importing the list of all variables using a function, on which the equations are based on. We also create helper functions to clean the data for the variables:"
   ]
  },
  {
   "cell_type": "code",
   "execution_count": 2,
   "metadata": {
    "scrolled": true
   },
   "outputs": [],
   "source": [
    "#processing the data for all variables\n",
    "\n",
    "def import_variables(source = \"https://space.mit.edu/home/tegmark/aifeynman/units.csv\"):\n",
    "    all_variables = pd.read_csv(source, header = 0, na_values=[\"nan\", \"\"])\n",
    "    all_variables = all_variables.dropna(how = \"all\")\n",
    "    return all_variables\n",
    "\n",
    "\n",
    "def to_mathtext(i):\n",
    "  return \"r'%s'\" %i\n",
    "\n",
    "#     def add_slash(i):\n",
    "#       # print(i)\n",
    "#       greek = ['alpha','beta', 'chi', 'delta', 'epsilon', 'gamma', 'mu', 'lambd', 'rho', 'omega', 'sigma', 'theta', 'tau', 'pi', 'kappa']\n",
    "#       for symbol in greek:\n",
    "#         if symbol in i: \n",
    "#           if symbol == 'lambd': return i.replace(\"lambd\", \"\\lambda\") # change to lambda here, only affects the latex form not the original node\n",
    "#           return i.replace(\"%s\" %symbol, \"\\%s\" %symbol)\n",
    "#         else: continue\n",
    "#       return i\n",
    "\n",
    "\n",
    "\n",
    "# print(import_variables())"
   ]
  },
  {
   "cell_type": "markdown",
   "metadata": {},
   "source": [
    "Some helper functions to break equations down into sub equations:"
   ]
  },
  {
   "cell_type": "code",
   "execution_count": 3,
   "metadata": {},
   "outputs": [],
   "source": [
    "#creating a list of variables: \n",
    "\n",
    "def split_by_brackets(formula):\n",
    "    #takes in a formula and returns a list of all the subequations of the formula\n",
    "    i = 0\n",
    "    j = len(formula)\n",
    "    counter = 0\n",
    "    subeqns = []\n",
    "    if formula.find(\"(\") <0: return subeqns+ [\"(\"+formula+\")\"]\n",
    "    while formula[i:j].find(\"(\") >0:\n",
    "#         while formula[i:j].find(\"(\") >0:\n",
    "        i = formula[i:j].rfind(\"(\")\n",
    "        j = formula[i:j].find(\")\")+i+1\n",
    "        #at this point, have found the variables in a subequation\n",
    "        #check if there is a function in front of it\n",
    "        while formula[i-1].isalpha():\n",
    "            i -= 1\n",
    "        subeqns.append(formula[i:j])\n",
    "        formula = formula[:i]+\"EQN\"+str(counter)+formula[j:]\n",
    "        i = 0\n",
    "        j = len(formula)\n",
    "        counter += 1 \n",
    "    return subeqns+ [\"(\"+formula+\")\"]\n",
    "\n",
    "def find_variables_in_subeqns(subeqn, mathtext):\n",
    "    #takes in a subequation and returns a list of variables that are in the subequation\n",
    "    variables_in_subeqn = []\n",
    "    subeqn = \"(\" + str(subeqn) + \")\"\n",
    "    for i in mathtext:\n",
    "        index = subeqn.find(i)\n",
    "        if ((index > 0 and (subeqn[index-1] in [\"*\", \"+\", \"/\", \"-\", \"(\", \")\"]) \n",
    "            and (subeqn[index+len(i)] in [\"*\", \"+\", \"/\", \"-\", \"(\", \")\"]))):\n",
    "            variables_in_subeqn.append(i)\n",
    "    return variables_in_subeqn\n",
    "    \n",
    "\n",
    "# print(split_by_brackets(all_mysteries['Formula'][2]))\n",
    "# print(find_variables_in_subeqns(split_by_brackets(all_mysteries['Formula'][2])[2], mathtext))"
   ]
  },
  {
   "cell_type": "markdown",
   "metadata": {},
   "source": [
    "Creating the knowledge graph, a directed graph with attributes in both the nodes and edges. \n",
    "\n",
    "We start by creating nodes of all the variables, and the nodes for SI units. These nodes have the attributes which are their types. Each variable has a unique name, while each SI unit is a tuple of length five, with a 1 representing the quantity of the SI unit and four 0s eg (0,1,0,0,0).\n",
    "\n",
    "Then we create nodes for unit vectors, which are just tuples, but may involve more than one quantity eg (0,1,1,0,-1). The type of these nodes is \"unit vector\".\n",
    "\n",
    "We create edges to match variables to unit vectors and unit vectors to SI units. Each variable has one unit vector with the label of these edges as \"has unit\". For SI units to unit vectors, only some unit vectors are also SI units. These edges are labelled \"is also\"\n",
    "\n",
    "Lastly we break every Physics equation from the Feynman lectures into subequations. Each subequation is comprised of variables and possibly other subequations. Every Physics equation can be traced back to its variables by following its subequations. "
   ]
  },
  {
   "cell_type": "code",
   "execution_count": 4,
   "metadata": {},
   "outputs": [],
   "source": [
    "def generate_graph(all_mysteries, all_variables):\n",
    "    mathtext = all_variables['Variable'].values\n",
    "    G = nx.DiGraph()\n",
    "\n",
    "    #creating nodes for all variables:\n",
    "    for i in all_variables['Variable']:\n",
    "      G.add_node(i, type = \"Variable\", latex = \"$%s$\" %add_brackets_to_underscores(add_slash(i)))\n",
    "\n",
    "    all_variables['non-zero'] = all_variables[['m','s','kg','T','V']].apply(np.count_nonzero,axis = 1)\n",
    "    all_variables['sum'] = all_variables[['m','s','kg','T','V']].apply(np.sum,axis = 1)\n",
    "    SI_unit_variables = all_variables[(all_variables['non-zero']==1) & (all_variables['sum']==1)]['Variable']\n",
    "    all_variables['Unit_vector'] = all_variables[['m','s','kg','T','V']].apply(list,axis = 1)\n",
    "\n",
    "    #creating nodes for SI units:\n",
    "    # print(np.unique(all_variables[(all_variables['non-zero']==1) & (all_variables['sum']==1)]['Units']))\n",
    "    for i in np.unique(all_variables[(all_variables['non-zero']==1) & (all_variables['sum']==1)]['Units']): \n",
    "      #this adds all variables with SI units unit vector similar to SI unit\n",
    "      G.add_node(i, type = \"SI_Unit\", latex = \"$%s$\" %i)\n",
    "\n",
    "    #creating nodes for unit vectors:\n",
    "    for i in np.unique(all_variables['Unit_vector']): #this adds all variables with SI units unit vector similar to SI unit\n",
    "      G.add_node(tuple(i), type = \"Unit_vector\", latex = \"$%s$\" %i)\n",
    "\n",
    "    #creating edges to match variables to their unit vectors (Variable -> has_unit -> unit_vector):\n",
    "    number_of_nodes = G.number_of_nodes()\n",
    "    for i in all_variables[\"Variable\"][:]:\n",
    "      G.add_edge(i, tuple(all_variables[all_variables[\"Variable\"] == i]['Unit_vector'].values[0]), HAS_UNIT = True)\n",
    "    if number_of_nodes != G.number_of_nodes(): print(\"ERROR: NODES ACCIDENTALLY ADDED WHILE ADDING EDGES (HAS_UNIT)\")\n",
    "\n",
    "    #creating edges to match unit vectors to SI units (unit vectors -> is_also -> SI_Unit):\n",
    "    number_of_nodes = G.number_of_nodes()\n",
    "    for i in np.unique(all_variables[(all_variables['non-zero']==1) & (all_variables['sum']==1)]['Units']):\n",
    "      # print(all_variables[all_variables[\"Variable\"] == i]['Units'].values)\n",
    "      G.add_edge(tuple(all_variables[all_variables[\"Units\"] == i]['Unit_vector'].values[0]), i, IS_ALSO = True)\n",
    "    if number_of_nodes != G.number_of_nodes(): print(\"ERROR: NODES ACCIDENTALLY ADDED WHILE ADDING EDGES (IS_ALSO)\")\n",
    "\n",
    "    #creating nodes and edges for the subequations of a formula\n",
    "    for f in range(len(all_mysteries['Formula'])):\n",
    "    #     print(all_mysteries['Formula'][i])\n",
    "        subequations = split_by_brackets(\"(\"+all_mysteries['Formula'][f]+\")\")\n",
    "        for i in subequations:\n",
    "            if i[0] != \"(\": i = \"(\"+i+\")\"\n",
    "            if i.find(\"EQN\") < 0: #if it has no other equation inside it\n",
    "                variables = find_variables_in_subeqns(i, mathtext)\n",
    "                G.add_node(i, type = \"Subequation\", latex = \"$%s$\" %i)\n",
    "                number_of_nodes = G.number_of_nodes()\n",
    "                for j in variables:\n",
    "                    G.add_edge(j, i, IS_VARIABLE_IN = True)\n",
    "                if number_of_nodes != G.number_of_nodes(): print(\"ERROR: NODES ACCIDENTALLY ADDED WHILE ADDING EDGES (IS_IN)\")\n",
    "            else: \n",
    "                variables = find_variables_in_subeqns(i, mathtext)\n",
    "                contains = []\n",
    "                while i.find(\"EQN\") > 0:\n",
    "                    index = i.find(\"EQN\")+3\n",
    "                    eqn_no = i[index]\n",
    "                    i = i.replace(\"EQN\"+str(eqn_no), subequations[int(eqn_no)])\n",
    "                    contains.append(subequations[int(eqn_no)])\n",
    "                G.add_node(i, type = \"Subequation\", latex = \"$%s$\" %i)\n",
    "                for k in set(contains): \n",
    "                    while k.find(\"EQN\") > 0:\n",
    "                        index = k.find(\"EQN\")+3\n",
    "                        eqn_no = k[index]\n",
    "                        k = k.replace(\"EQN\"+str(eqn_no), subequations[int(eqn_no)])\n",
    "                    number_of_nodes = G.number_of_nodes()\n",
    "                    if k[0] is not \"(\": k = \"(\"+k+\")\"\n",
    "                    G.add_edge(k, i, IS_SUBEQUATION_IN = True)\n",
    "                    if number_of_nodes != G.number_of_nodes(): print(\"ERROR: NODES ACCIDENTALLY ADDED WHILE ADDING EDGES (IS_IN)\")\n",
    "                number_of_nodes = G.number_of_nodes()\n",
    "                for j in variables:\n",
    "                    G.add_edge(j, i, IS_VARIABLE_IN = True)\n",
    "                if number_of_nodes != G.number_of_nodes(): print(\"ERROR: NODES ACCIDENTALLY ADDED WHILE ADDING EDGES (IS_IN)\")\n",
    "        number_of_nodes = G.number_of_nodes()\n",
    "        G.add_edge(i, all_mysteries['Output'][f], IS_EQUAL = True)\n",
    "        if number_of_nodes != G.number_of_nodes(): print(\"ERROR: NODES ACCIDENTALLY ADDED WHILE ADDING EDGES (IS_IN)\")\n",
    "\n",
    "    return G\n",
    "\n"
   ]
  },
  {
   "cell_type": "markdown",
   "metadata": {},
   "source": [
    "demonstrate the creation of the graph, by printing all its nodes and edges"
   ]
  },
  {
   "cell_type": "code",
   "execution_count": 5,
   "metadata": {},
   "outputs": [
    {
     "name": "stdout",
     "output_type": "stream",
     "text": [
      "['A', 'a', 'A_vec', 'alpha', 'B', 'beta', 'Bx', 'By', 'Bz', 'c', 'C', 'chi', 'd', 'D', 'd1', 'd2', 'delta', 'el_ct', 'E_n', 'E_den', 'Ef', 'epsilon', 'f', 'F', 'flux', 'foc', 'G', 'g', 'g_', 'gamma', 'H', 'h', 'hbar', 'H_G', 'I', 'I_0', 'I1', 'I2', 'Int', 'Int_0', 'j', 'Jz', 'K', 'k', 'k_f', 'k_G', 'k_spring', 'kappa', 'kb', 'L', 'L_rad', 'lambd', 'm', 'M', 'm_0', 'm1', 'm2', 'mob', 'mom', 'mu', 'mu_drift', 'Nn', 'n', 'n_rho', 'n_0', 'omega', 'omega_0', 'p', 'Pol', 'p_d', 'Pwr', 'pr', 'prob', 'q', 'q1', 'q2', 'r', 'R', 'r1', 'r2', 'rho', 'rho_c', 'rho_c_0', 'rho_0', 'sigma', 'sigma_den', 't', 'T', 't1', 'T1', 'T2', 'tau', 'theta', 'theta1', 'theta2', 'U', 'u', 'v', 'V', 'v1', 'V1', 'V2', 'Volt', 'w', 'x', 'x1', 'x2', 'x3', 'y', 'Y', 'y1', 'y2', 'y3', 'z', 'z1', 'z2', 'mu_S', 'L_ind', 'Z_1', 'Z_2', 'Length', 'Mass', 'Temperature', 'Voltage', 'Τime', (-3.0, 0.0, 0.0, 0.0, 0.0), (-3.0, 0.0, 1.0, 0.0, 0.0), (-2.0, 1.0, 0.0, 0.0, 1.0), (-2.0, 3.0, -1.0, 0.0, 2.0), (-2.0, 4.0, -1.0, 0.0, 2.0), (-1.0, -2.0, 1.0, 0.0, -1.0), (-1.0, -2.0, 1.0, 0.0, 0.0), (-1.0, 0.0, 0.0, 0.0, 0.0), (-1.0, 0.0, 0.0, 0.0, 1.0), (-1.0, 1.0, 0.0, 0.0, 1.0), (-1.0, 2.0, -1.0, 0.0, 2.0), (0.0, -3.0, 1.0, 0.0, -1.0), (0.0, -3.0, 1.0, 0.0, 0.0), (0.0, -2.0, 1.0, 0.0, -1.0), (0.0, -2.0, 1.0, 0.0, 0.0), (0.0, -1.0, 0.0, 0.0, 0.0), (0.0, -1.0, 1.0, 0.0, 0.0), (0.0, 0.0, 0.0, 0.0, 0.0), (0.0, 0.0, 0.0, 0.0, 1.0), (0.0, 0.0, 0.0, 1.0, 0.0), (0.0, 0.0, 1.0, 0.0, 0.0), (0.0, 1.0, -1.0, 0.0, 0.0), (0.0, 1.0, 0.0, 0.0, 0.0), (1.0, -3.0, 1.0, -1.0, 0.0), (1.0, -3.0, 1.0, 0.0, -1.0), (1.0, -2.0, 0.0, 0.0, 0.0), (1.0, -2.0, 1.0, 0.0, -2.0), (1.0, -2.0, 1.0, 0.0, 0.0), (1.0, -1.0, 0.0, 0.0, 0.0), (1.0, -1.0, 1.0, 0.0, 0.0), (1.0, 0.0, 0.0, 0.0, 0.0), (2.0, -3.0, 1.0, 0.0, -1.0), (2.0, -3.0, 1.0, 0.0, 0.0), (2.0, -2.0, 1.0, -1.0, 0.0), (2.0, -2.0, 1.0, 0.0, -2.0), (2.0, -2.0, 1.0, 0.0, -1.0), (2.0, -2.0, 1.0, 0.0, 0.0), (2.0, -1.0, 0.0, 0.0, 0.0), (2.0, -1.0, 1.0, 0.0, 0.0), (2.0, 0.0, 0.0, 0.0, 0.0), (3.0, -2.0, -1.0, 0.0, 0.0), (3.0, -2.0, 1.0, 0.0, -1.0), (3.0, -2.0, 1.0, 0.0, 0.0), (3.0, 0.0, 0.0, 0.0, 0.0), (4.0, -3.0, 1.0, 0.0, -1.0), '((exp(-theta**2/2)/sqrt(2*pi)))', '((exp(-(theta/sigma)**2/2)/(sqrt(2*pi)*sigma)))', '((exp(-((theta-theta1)/sigma)**2/2)/(sqrt(2*pi)*sigma)))', '((sqrt((x2-x1)**2+(y2-y1)**2)))', '((G*m1*m2/((x2-x1)**2+(y2-y1)**2+(z2-z1)**2)))', '((m_0/sqrt(1-v**2/c**2)))', '((x1*y1+x2*y2+x3*y3))', '((mu*Nn))', '((q1*q2*r/(4*pi*epsilon*r**3)))', '((q1*r/(4*pi*epsilon*r**3)))', '((q2*Ef))', '((q*(Ef+B*v*sin(theta))))', '((1/2*m*(v**2+u**2+w**2)))', '((G*m1*m2*(1/r2-1/r1)))', '((m*g*z))', '((1/2*k_spring*x**2))', '(((x-u*t)/sqrt(1-u**2/c**2)))', '(((t-u*x/c**2)/sqrt(1-u**2/c**2)))', '((m_0*v/sqrt(1-v**2/c**2)))', '(((u+v)/(1+u*v/c**2)))', '(((m1*r1+m2*r2)/(m1+m2)))', '((r*F*sin(theta)))', '((m*r*v*sin(theta)))', '((1/2*m*(omega**2+omega_0**2)*1/2*x**2))', '((q/C))', '((arcsin(n*sin(theta2))))', '((1/(1/d1+n/d2)))', '((omega/c))', '((sqrt(x1**2+x2**2-2*x1*x2*cos(theta1-theta2))))', '((Int_0*sin(n*theta/2)**2/sin(theta/2)**2))', '((arcsin(lambd/(n*d))))', '((q**2*a**2/(6*pi*epsilon*c**3)))', '(((1/2*epsilon*c*Ef**2)*(8*pi*r**2/3)*(omega**4/(omega**2-omega_0**2)**2)))', '((q*v*B/p))', '((omega_0/(1-v/c)))', '(((1+v/c)/sqrt(1-v**2/c**2)*omega_0))', '(((h/(2*pi))*omega))', '((I1+I2+2*sqrt(I1*I2)*cos(delta)))', '((4*pi*epsilon*(h/(2*pi))**2/(m*q**2)))', '((3/2*pr*V))', '((1/(gamma-1)*pr*V))', '((n*kb*T/V))', '((n_0*exp(-m*g*x/(kb*T))))', '((h/(2*pi)*omega**3/(pi**2*c**2*(exp((h/(2*pi))*omega/(kb*T))-1))))', '((mu_drift*q*Volt/d))', '((mob*kb*T))', '((1/(gamma-1)*kb*v/A))', '((n*kb*T*ln(V2/V1)))', '((sqrt(gamma*pr/rho)))', '((m*c**2/sqrt(1-v**2/c**2)))', '((x1*(cos(omega*t)+alpha*cos(omega*t)**2)))', '((kappa*(T2-T1)*A/d))', '((Pwr/(4*pi*r**2)))', '((q/(4*pi*epsilon*r)))', '((1/(4*pi*epsilon)*p_d*cos(theta)/r**2))', '((p_d/(4*pi*epsilon)*3*z/r**5*sqrt(x**2+y**2)))', '((p_d/(4*pi*epsilon)*3*cos(theta)*sin(theta)/r**3))', '((3/5*q**2/(4*pi*epsilon*d)))', '((epsilon*Ef**2/2))', '((sigma_den/epsilon*1/(1+chi)))', '((q*Ef/(m*(omega_0**2-omega**2))))', '((n_0*(1+p_d*Ef*cos(theta)/(kb*T))))', '((n_rho*p_d**2*Ef/(3*kb*T)))', '((n*alpha/(1-(n*alpha/3))*epsilon*Ef))', '((1+n*alpha/(1-(n*alpha/3))))', '((1/(4*pi*epsilon*c**2)*2*I/r))', '((rho_c_0/sqrt(1-v**2/c**2)))', '((rho_c_0*v/sqrt(1-v**2/c**2)))', '((-mom*B*cos(theta)))', '((-p_d*Ef*cos(theta)))', '((q/(4*pi*epsilon*r*(1-v/c))))', '((sqrt(omega**2/c**2-pi**2/d**2)))', '((epsilon*c*Ef**2))', '((epsilon*Ef**2))', '((q*v/(2*pi*r)))', '((q*v*r/2))', '((g_*q*B/(2*m)))', '((q*h/(4*pi*m)))', '((g_*mom*B*Jz/(h/(2*pi))))', '((n_0/(exp(mom*B/(kb*T))+exp(-mom*B/(kb*T)))))', '((n_rho*mom*tanh(mom*B/(kb*T))))', '((mom*H/(kb*T)+(mom*alpha)/(epsilon*c**2*kb*T)*M))', '((mom*(1+chi)*B))', '((Y*A*x/d))', '((Y/(2*(1+sigma))))', '((1/(exp((h/(2*pi))*omega/(kb*T))-1)))', '(((h/(2*pi))*omega/(exp((h/(2*pi))*omega/(kb*T))-1)))', '((2*mom*B/(h/(2*pi))))', '((sin(E_n*t/(h/(2*pi)))**2))', '(((p_d*Ef*t/(h/(2*pi)))*sin((omega-omega_0)*t/2)**2/((omega-omega_0)*t/2)**2))', '((mom*sqrt(Bx**2+By**2+Bz**2)))', '((n*(h/(2*pi))))', '((2*E_n*d**2*k/(h/(2*pi))))', '((I_0*(exp(q*Volt/(kb*T))-1)))', '((2*U*(1-cos(k*d))))', '(((h/(2*pi))**2/(2*E_n*d**2)))', '((2*pi*alpha/(n*d)))', '((beta*(1+alpha*cos(theta))))', '((-m*q**4/(2*(4*pi*epsilon)**2*(h/(2*pi))**2)*(1/n**2)))', '((-rho_c_0*q*A_vec/m))']\n",
      "[('A', (2.0, 0.0, 0.0, 0.0, 0.0), {'HAS_UNIT': True}), ('A', '((1/(gamma-1)*kb*v/A))', {'IS_VARIABLE_IN': True}), ('A', '((kappa*(T2-T1)*A/d))', {'IS_VARIABLE_IN': True}), ('A', '((Y*A*x/d))', {'IS_VARIABLE_IN': True}), ('a', (1.0, -2.0, 0.0, 0.0, 0.0), {'HAS_UNIT': True}), ('a', '((q**2*a**2/(6*pi*epsilon*c**3)))', {'IS_VARIABLE_IN': True}), ('A_vec', (-1.0, 1.0, 0.0, 0.0, 1.0), {'HAS_UNIT': True}), ('A_vec', '((-rho_c_0*q*A_vec/m))', {'IS_VARIABLE_IN': True}), ('alpha', (0.0, 0.0, 0.0, 0.0, 0.0), {'HAS_UNIT': True}), ('alpha', '((x1*(cos(omega*t)+alpha*cos(omega*t)**2)))', {'IS_VARIABLE_IN': True}), ('alpha', '((n*alpha/(1-(n*alpha/3))*epsilon*Ef))', {'IS_VARIABLE_IN': True}), ('alpha', '((1+n*alpha/(1-(n*alpha/3))))', {'IS_VARIABLE_IN': True}), ('alpha', '((mom*H/(kb*T)+(mom*alpha)/(epsilon*c**2*kb*T)*M))', {'IS_VARIABLE_IN': True}), ('alpha', '((2*pi*alpha/(n*d)))', {'IS_VARIABLE_IN': True}), ('alpha', '((beta*(1+alpha*cos(theta))))', {'IS_VARIABLE_IN': True}), ('B', (-2.0, 1.0, 0.0, 0.0, 1.0), {'HAS_UNIT': True}), ('B', '((q*(Ef+B*v*sin(theta))))', {'IS_VARIABLE_IN': True}), ('B', '((q*v*B/p))', {'IS_VARIABLE_IN': True}), ('B', '((-mom*B*cos(theta)))', {'IS_VARIABLE_IN': True}), ('B', '((g_*q*B/(2*m)))', {'IS_VARIABLE_IN': True}), ('B', '((g_*mom*B*Jz/(h/(2*pi))))', {'IS_VARIABLE_IN': True}), ('B', '((n_0/(exp(mom*B/(kb*T))+exp(-mom*B/(kb*T)))))', {'IS_VARIABLE_IN': True}), ('B', '((n_rho*mom*tanh(mom*B/(kb*T))))', {'IS_VARIABLE_IN': True}), ('B', '((mom*(1+chi)*B))', {'IS_VARIABLE_IN': True}), ('B', '((2*mom*B/(h/(2*pi))))', {'IS_VARIABLE_IN': True}), ('beta', (0.0, 0.0, 0.0, 0.0, 0.0), {'HAS_UNIT': True}), ('beta', '((beta*(1+alpha*cos(theta))))', {'IS_VARIABLE_IN': True}), ('Bx', (-2.0, 1.0, 0.0, 0.0, 1.0), {'HAS_UNIT': True}), ('Bx', '((mom*sqrt(Bx**2+By**2+Bz**2)))', {'IS_VARIABLE_IN': True}), ('By', (-2.0, 1.0, 0.0, 0.0, 1.0), {'HAS_UNIT': True}), ('By', '((mom*sqrt(Bx**2+By**2+Bz**2)))', {'IS_VARIABLE_IN': True}), ('Bz', (-2.0, 1.0, 0.0, 0.0, 1.0), {'HAS_UNIT': True}), ('Bz', '((mom*sqrt(Bx**2+By**2+Bz**2)))', {'IS_VARIABLE_IN': True}), ('c', (1.0, -1.0, 0.0, 0.0, 0.0), {'HAS_UNIT': True}), ('c', '((m_0/sqrt(1-v**2/c**2)))', {'IS_VARIABLE_IN': True}), ('c', '(((x-u*t)/sqrt(1-u**2/c**2)))', {'IS_VARIABLE_IN': True}), ('c', '(((t-u*x/c**2)/sqrt(1-u**2/c**2)))', {'IS_VARIABLE_IN': True}), ('c', '((m_0*v/sqrt(1-v**2/c**2)))', {'IS_VARIABLE_IN': True}), ('c', '(((u+v)/(1+u*v/c**2)))', {'IS_VARIABLE_IN': True}), ('c', '((omega/c))', {'IS_VARIABLE_IN': True}), ('c', '((q**2*a**2/(6*pi*epsilon*c**3)))', {'IS_VARIABLE_IN': True}), ('c', '(((1/2*epsilon*c*Ef**2)*(8*pi*r**2/3)*(omega**4/(omega**2-omega_0**2)**2)))', {'IS_VARIABLE_IN': True}), ('c', '((omega_0/(1-v/c)))', {'IS_VARIABLE_IN': True}), ('c', '(((1+v/c)/sqrt(1-v**2/c**2)*omega_0))', {'IS_VARIABLE_IN': True}), ('c', '((h/(2*pi)*omega**3/(pi**2*c**2*(exp((h/(2*pi))*omega/(kb*T))-1))))', {'IS_VARIABLE_IN': True}), ('c', '((m*c**2/sqrt(1-v**2/c**2)))', {'IS_VARIABLE_IN': True}), ('c', '((1/(4*pi*epsilon*c**2)*2*I/r))', {'IS_VARIABLE_IN': True}), ('c', '((q/(4*pi*epsilon*r*(1-v/c))))', {'IS_VARIABLE_IN': True}), ('c', '((sqrt(omega**2/c**2-pi**2/d**2)))', {'IS_VARIABLE_IN': True}), ('c', '((epsilon*c*Ef**2))', {'IS_VARIABLE_IN': True}), ('c', '((mom*H/(kb*T)+(mom*alpha)/(epsilon*c**2*kb*T)*M))', {'IS_VARIABLE_IN': True}), ('C', (2.0, -2.0, 1.0, 0.0, -2.0), {'HAS_UNIT': True}), ('C', '((q/C))', {'IS_VARIABLE_IN': True}), ('chi', (0.0, 0.0, 0.0, 0.0, 0.0), {'HAS_UNIT': True}), ('chi', '((sigma_den/epsilon*1/(1+chi)))', {'IS_VARIABLE_IN': True}), ('chi', '((mom*(1+chi)*B))', {'IS_VARIABLE_IN': True}), ('d', (1.0, 0.0, 0.0, 0.0, 0.0), {'HAS_UNIT': True}), ('d', '((kappa*(T2-T1)*A/d))', {'IS_VARIABLE_IN': True}), ('d', '((3/5*q**2/(4*pi*epsilon*d)))', {'IS_VARIABLE_IN': True}), ('d', '((sqrt(omega**2/c**2-pi**2/d**2)))', {'IS_VARIABLE_IN': True}), ('d', '((Y*A*x/d))', {'IS_VARIABLE_IN': True}), ('d', '((2*E_n*d**2*k/(h/(2*pi))))', {'IS_VARIABLE_IN': True}), ('d', '((2*U*(1-cos(k*d))))', {'IS_VARIABLE_IN': True}), ('d', '(((h/(2*pi))**2/(2*E_n*d**2)))', {'IS_VARIABLE_IN': True}), ('d', '((2*pi*alpha/(n*d)))', {'IS_VARIABLE_IN': True}), ('D', (2.0, -1.0, 0.0, 0.0, 0.0), {'HAS_UNIT': True}), ('d1', (1.0, 0.0, 0.0, 0.0, 0.0), {'HAS_UNIT': True}), ('d1', '((1/(1/d1+n/d2)))', {'IS_VARIABLE_IN': True}), ('d2', (1.0, 0.0, 0.0, 0.0, 0.0), {'HAS_UNIT': True}), ('d2', '((1/(1/d1+n/d2)))', {'IS_VARIABLE_IN': True}), ('delta', (0.0, 0.0, 0.0, 0.0, 0.0), {'HAS_UNIT': True}), ('delta', '((I1+I2+2*sqrt(I1*I2)*cos(delta)))', {'IS_VARIABLE_IN': True}), ('el_ct', (-1.0, 2.0, -1.0, 0.0, 2.0), {'HAS_UNIT': True}), ('E_n', (2.0, -2.0, 1.0, 0.0, 0.0), {'HAS_UNIT': True}), ('E_n', '((sin(E_n*t/(h/(2*pi)))**2))', {'IS_VARIABLE_IN': True}), ('E_n', '((2*E_n*d**2*k/(h/(2*pi))))', {'IS_VARIABLE_IN': True}), ('E_n', '(((h/(2*pi))**2/(2*E_n*d**2)))', {'IS_VARIABLE_IN': True}), ('E_den', (-1.0, -2.0, 1.0, 0.0, 0.0), {'HAS_UNIT': True}), ('Ef', (-1.0, 0.0, 0.0, 0.0, 1.0), {'HAS_UNIT': True}), ('Ef', '((q2*Ef))', {'IS_VARIABLE_IN': True}), ('Ef', '((q*(Ef+B*v*sin(theta))))', {'IS_VARIABLE_IN': True}), ('Ef', '(((1/2*epsilon*c*Ef**2)*(8*pi*r**2/3)*(omega**4/(omega**2-omega_0**2)**2)))', {'IS_VARIABLE_IN': True}), ('Ef', '((epsilon*Ef**2/2))', {'IS_VARIABLE_IN': True}), ('Ef', '((q*Ef/(m*(omega_0**2-omega**2))))', {'IS_VARIABLE_IN': True}), ('Ef', '((n_0*(1+p_d*Ef*cos(theta)/(kb*T))))', {'IS_VARIABLE_IN': True}), ('Ef', '((n_rho*p_d**2*Ef/(3*kb*T)))', {'IS_VARIABLE_IN': True}), ('Ef', '((n*alpha/(1-(n*alpha/3))*epsilon*Ef))', {'IS_VARIABLE_IN': True}), ('Ef', '((-p_d*Ef*cos(theta)))', {'IS_VARIABLE_IN': True}), ('Ef', '((epsilon*c*Ef**2))', {'IS_VARIABLE_IN': True}), ('Ef', '((epsilon*Ef**2))', {'IS_VARIABLE_IN': True}), ('Ef', '(((p_d*Ef*t/(h/(2*pi)))*sin((omega-omega_0)*t/2)**2/((omega-omega_0)*t/2)**2))', {'IS_VARIABLE_IN': True}), ('epsilon', (1.0, -2.0, 1.0, 0.0, -2.0), {'HAS_UNIT': True}), ('epsilon', '((q1*q2*r/(4*pi*epsilon*r**3)))', {'IS_VARIABLE_IN': True}), ('epsilon', '((q1*r/(4*pi*epsilon*r**3)))', {'IS_VARIABLE_IN': True}), ('epsilon', '((q**2*a**2/(6*pi*epsilon*c**3)))', {'IS_VARIABLE_IN': True}), ('epsilon', '(((1/2*epsilon*c*Ef**2)*(8*pi*r**2/3)*(omega**4/(omega**2-omega_0**2)**2)))', {'IS_VARIABLE_IN': True}), ('epsilon', '((4*pi*epsilon*(h/(2*pi))**2/(m*q**2)))', {'IS_VARIABLE_IN': True}), ('epsilon', '((q/(4*pi*epsilon*r)))', {'IS_VARIABLE_IN': True}), ('epsilon', '((1/(4*pi*epsilon)*p_d*cos(theta)/r**2))', {'IS_VARIABLE_IN': True}), ('epsilon', '((p_d/(4*pi*epsilon)*3*z/r**5*sqrt(x**2+y**2)))', {'IS_VARIABLE_IN': True}), ('epsilon', '((p_d/(4*pi*epsilon)*3*cos(theta)*sin(theta)/r**3))', {'IS_VARIABLE_IN': True}), ('epsilon', '((3/5*q**2/(4*pi*epsilon*d)))', {'IS_VARIABLE_IN': True}), ('epsilon', '((epsilon*Ef**2/2))', {'IS_VARIABLE_IN': True}), ('epsilon', '((sigma_den/epsilon*1/(1+chi)))', {'IS_VARIABLE_IN': True}), ('epsilon', '((n*alpha/(1-(n*alpha/3))*epsilon*Ef))', {'IS_VARIABLE_IN': True}), ('epsilon', '((1/(4*pi*epsilon*c**2)*2*I/r))', {'IS_VARIABLE_IN': True}), ('epsilon', '((q/(4*pi*epsilon*r*(1-v/c))))', {'IS_VARIABLE_IN': True}), ('epsilon', '((epsilon*c*Ef**2))', {'IS_VARIABLE_IN': True}), ('epsilon', '((epsilon*Ef**2))', {'IS_VARIABLE_IN': True}), ('epsilon', '((mom*H/(kb*T)+(mom*alpha)/(epsilon*c**2*kb*T)*M))', {'IS_VARIABLE_IN': True}), ('epsilon', '((-m*q**4/(2*(4*pi*epsilon)**2*(h/(2*pi))**2)*(1/n**2)))', {'IS_VARIABLE_IN': True}), ('f', (0.0, 0.0, 0.0, 0.0, 0.0), {'HAS_UNIT': True}), ('F', (1.0, -2.0, 1.0, 0.0, 0.0), {'HAS_UNIT': True}), ('F', '((r*F*sin(theta)))', {'IS_VARIABLE_IN': True}), ('flux', (0.0, -3.0, 1.0, 0.0, 0.0), {'HAS_UNIT': True}), ('foc', (1.0, 0.0, 0.0, 0.0, 0.0), {'HAS_UNIT': True}), ('G', (3.0, -2.0, -1.0, 0.0, 0.0), {'HAS_UNIT': True}), ('G', '((G*m1*m2/((x2-x1)**2+(y2-y1)**2+(z2-z1)**2)))', {'IS_VARIABLE_IN': True}), ('G', '((G*m1*m2*(1/r2-1/r1)))', {'IS_VARIABLE_IN': True}), ('g', (1.0, -2.0, 0.0, 0.0, 0.0), {'HAS_UNIT': True}), ('g', '((m*g*z))', {'IS_VARIABLE_IN': True}), ('g', '((n_0*exp(-m*g*x/(kb*T))))', {'IS_VARIABLE_IN': True}), ('g_', (0.0, 0.0, 0.0, 0.0, 0.0), {'HAS_UNIT': True}), ('g_', '((g_*q*B/(2*m)))', {'IS_VARIABLE_IN': True}), ('g_', '((g_*mom*B*Jz/(h/(2*pi))))', {'IS_VARIABLE_IN': True}), ('gamma', (0.0, 0.0, 0.0, 0.0, 0.0), {'HAS_UNIT': True}), ('gamma', '((1/(gamma-1)*pr*V))', {'IS_VARIABLE_IN': True}), ('gamma', '((1/(gamma-1)*kb*v/A))', {'IS_VARIABLE_IN': True}), ('gamma', '((sqrt(gamma*pr/rho)))', {'IS_VARIABLE_IN': True}), ('H', (-2.0, 1.0, 0.0, 0.0, 1.0), {'HAS_UNIT': True}), ('H', '((mom*H/(kb*T)+(mom*alpha)/(epsilon*c**2*kb*T)*M))', {'IS_VARIABLE_IN': True}), ('h', (2.0, -1.0, 1.0, 0.0, 0.0), {'HAS_UNIT': True}), ('h', '(((h/(2*pi))*omega))', {'IS_VARIABLE_IN': True}), ('h', '((4*pi*epsilon*(h/(2*pi))**2/(m*q**2)))', {'IS_VARIABLE_IN': True}), ('h', '((h/(2*pi)*omega**3/(pi**2*c**2*(exp((h/(2*pi))*omega/(kb*T))-1))))', {'IS_VARIABLE_IN': True}), ('h', '((q*h/(4*pi*m)))', {'IS_VARIABLE_IN': True}), ('h', '((g_*mom*B*Jz/(h/(2*pi))))', {'IS_VARIABLE_IN': True}), ('h', '((1/(exp((h/(2*pi))*omega/(kb*T))-1)))', {'IS_VARIABLE_IN': True}), ('h', '(((h/(2*pi))*omega/(exp((h/(2*pi))*omega/(kb*T))-1)))', {'IS_VARIABLE_IN': True}), ('h', '((2*mom*B/(h/(2*pi))))', {'IS_VARIABLE_IN': True}), ('h', '((sin(E_n*t/(h/(2*pi)))**2))', {'IS_VARIABLE_IN': True}), ('h', '(((p_d*Ef*t/(h/(2*pi)))*sin((omega-omega_0)*t/2)**2/((omega-omega_0)*t/2)**2))', {'IS_VARIABLE_IN': True}), ('h', '((n*(h/(2*pi))))', {'IS_VARIABLE_IN': True}), ('h', '((2*E_n*d**2*k/(h/(2*pi))))', {'IS_VARIABLE_IN': True}), ('h', '(((h/(2*pi))**2/(2*E_n*d**2)))', {'IS_VARIABLE_IN': True}), ('h', '((-m*q**4/(2*(4*pi*epsilon)**2*(h/(2*pi))**2)*(1/n**2)))', {'IS_VARIABLE_IN': True}), ('hbar', (2.0, -1.0, 1.0, 0.0, 0.0), {'HAS_UNIT': True}), ('H_G', (0.0, -1.0, 0.0, 0.0, 0.0), {'HAS_UNIT': True}), ('I', (2.0, -3.0, 1.0, 0.0, -1.0), {'HAS_UNIT': True}), ('I', '((1/(4*pi*epsilon*c**2)*2*I/r))', {'IS_VARIABLE_IN': True}), ('I_0', (2.0, -3.0, 1.0, 0.0, -1.0), {'HAS_UNIT': True}), ('I_0', '((I_0*(exp(q*Volt/(kb*T))-1)))', {'IS_VARIABLE_IN': True}), ('I1', (0.0, -3.0, 1.0, 0.0, 0.0), {'HAS_UNIT': True}), ('I1', '((I1+I2+2*sqrt(I1*I2)*cos(delta)))', {'IS_VARIABLE_IN': True}), ('I2', (0.0, -3.0, 1.0, 0.0, 0.0), {'HAS_UNIT': True}), ('I2', '((I1+I2+2*sqrt(I1*I2)*cos(delta)))', {'IS_VARIABLE_IN': True}), ('Int', (0.0, -3.0, 1.0, 0.0, 0.0), {'HAS_UNIT': True}), ('Int_0', (0.0, -3.0, 1.0, 0.0, 0.0), {'HAS_UNIT': True}), ('Int_0', '((Int_0*sin(n*theta/2)**2/sin(theta/2)**2))', {'IS_VARIABLE_IN': True}), ('j', (0.0, -3.0, 1.0, 0.0, -1.0), {'HAS_UNIT': True}), ('Jz', (2.0, -1.0, 1.0, 0.0, 0.0), {'HAS_UNIT': True}), ('Jz', '((g_*mom*B*Jz/(h/(2*pi))))', {'IS_VARIABLE_IN': True}), ('K', (2.0, -2.0, 1.0, 0.0, 0.0), {'HAS_UNIT': True}), ('k', (-1.0, 0.0, 0.0, 0.0, 0.0), {'HAS_UNIT': True}), ('k', '((2*E_n*d**2*k/(h/(2*pi))))', {'IS_VARIABLE_IN': True}), ('k', '((2*U*(1-cos(k*d))))', {'IS_VARIABLE_IN': True}), ('k_f', (0.0, 0.0, 0.0, 0.0, 0.0), {'HAS_UNIT': True}), ('k_G', (3.0, -2.0, 1.0, 0.0, 0.0), {'HAS_UNIT': True}), ('k_spring', (0.0, -2.0, 1.0, 0.0, 0.0), {'HAS_UNIT': True}), ('k_spring', '((1/2*k_spring*x**2))', {'IS_VARIABLE_IN': True}), ('kappa', (1.0, -3.0, 1.0, -1.0, 0.0), {'HAS_UNIT': True}), ('kappa', '((kappa*(T2-T1)*A/d))', {'IS_VARIABLE_IN': True}), ('kb', (2.0, -2.0, 1.0, -1.0, 0.0), {'HAS_UNIT': True}), ('kb', '((n*kb*T/V))', {'IS_VARIABLE_IN': True}), ('kb', '((n_0*exp(-m*g*x/(kb*T))))', {'IS_VARIABLE_IN': True}), ('kb', '((h/(2*pi)*omega**3/(pi**2*c**2*(exp((h/(2*pi))*omega/(kb*T))-1))))', {'IS_VARIABLE_IN': True}), ('kb', '((mob*kb*T))', {'IS_VARIABLE_IN': True}), ('kb', '((1/(gamma-1)*kb*v/A))', {'IS_VARIABLE_IN': True}), ('kb', '((n*kb*T*ln(V2/V1)))', {'IS_VARIABLE_IN': True}), ('kb', '((n_0*(1+p_d*Ef*cos(theta)/(kb*T))))', {'IS_VARIABLE_IN': True}), ('kb', '((n_rho*p_d**2*Ef/(3*kb*T)))', {'IS_VARIABLE_IN': True}), ('kb', '((n_0/(exp(mom*B/(kb*T))+exp(-mom*B/(kb*T)))))', {'IS_VARIABLE_IN': True}), ('kb', '((n_rho*mom*tanh(mom*B/(kb*T))))', {'IS_VARIABLE_IN': True}), ('kb', '((mom*H/(kb*T)+(mom*alpha)/(epsilon*c**2*kb*T)*M))', {'IS_VARIABLE_IN': True}), ('kb', '((1/(exp((h/(2*pi))*omega/(kb*T))-1)))', {'IS_VARIABLE_IN': True}), ('kb', '(((h/(2*pi))*omega/(exp((h/(2*pi))*omega/(kb*T))-1)))', {'IS_VARIABLE_IN': True}), ('kb', '((I_0*(exp(q*Volt/(kb*T))-1)))', {'IS_VARIABLE_IN': True}), ('L', (2.0, -1.0, 1.0, 0.0, 0.0), {'HAS_UNIT': True}), ('L_rad', (0.0, -2.0, 1.0, 0.0, 0.0), {'HAS_UNIT': True}), ('lambd', (1.0, 0.0, 0.0, 0.0, 0.0), {'HAS_UNIT': True}), ('lambd', '((arcsin(lambd/(n*d))))', {'IS_VARIABLE_IN': True}), ('m', (0.0, 0.0, 1.0, 0.0, 0.0), {'HAS_UNIT': True}), ('m', '((1/2*m*(v**2+u**2+w**2)))', {'IS_VARIABLE_IN': True}), ('m', '((m*g*z))', {'IS_VARIABLE_IN': True}), ('m', '((m*r*v*sin(theta)))', {'IS_VARIABLE_IN': True}), ('m', '((1/2*m*(omega**2+omega_0**2)*1/2*x**2))', {'IS_VARIABLE_IN': True}), ('m', '((4*pi*epsilon*(h/(2*pi))**2/(m*q**2)))', {'IS_VARIABLE_IN': True}), ('m', '((n_0*exp(-m*g*x/(kb*T))))', {'IS_VARIABLE_IN': True}), ('m', '((m*c**2/sqrt(1-v**2/c**2)))', {'IS_VARIABLE_IN': True}), ('m', '((q*Ef/(m*(omega_0**2-omega**2))))', {'IS_VARIABLE_IN': True}), ('m', '((g_*q*B/(2*m)))', {'IS_VARIABLE_IN': True}), ('m', '((q*h/(4*pi*m)))', {'IS_VARIABLE_IN': True}), ('m', '((-m*q**4/(2*(4*pi*epsilon)**2*(h/(2*pi))**2)*(1/n**2)))', {'IS_VARIABLE_IN': True}), ('m', '((-rho_c_0*q*A_vec/m))', {'IS_VARIABLE_IN': True}), ('M', (1.0, -3.0, 1.0, 0.0, -1.0), {'HAS_UNIT': True}), ('M', '((mom*H/(kb*T)+(mom*alpha)/(epsilon*c**2*kb*T)*M))', {'IS_VARIABLE_IN': True}), ('m_0', (0.0, 0.0, 1.0, 0.0, 0.0), {'HAS_UNIT': True}), ('m_0', '((m_0/sqrt(1-v**2/c**2)))', {'IS_VARIABLE_IN': True}), ('m_0', '((m_0*v/sqrt(1-v**2/c**2)))', {'IS_VARIABLE_IN': True}), ('m1', (0.0, 0.0, 1.0, 0.0, 0.0), {'HAS_UNIT': True}), ('m1', '((G*m1*m2/((x2-x1)**2+(y2-y1)**2+(z2-z1)**2)))', {'IS_VARIABLE_IN': True}), ('m1', '((G*m1*m2*(1/r2-1/r1)))', {'IS_VARIABLE_IN': True}), ('m1', '(((m1*r1+m2*r2)/(m1+m2)))', {'IS_VARIABLE_IN': True}), ('m2', (0.0, 0.0, 1.0, 0.0, 0.0), {'HAS_UNIT': True}), ('m2', '((G*m1*m2/((x2-x1)**2+(y2-y1)**2+(z2-z1)**2)))', {'IS_VARIABLE_IN': True}), ('m2', '((G*m1*m2*(1/r2-1/r1)))', {'IS_VARIABLE_IN': True}), ('m2', '(((m1*r1+m2*r2)/(m1+m2)))', {'IS_VARIABLE_IN': True}), ('mob', (0.0, 1.0, -1.0, 0.0, 0.0), {'HAS_UNIT': True}), ('mob', '((mob*kb*T))', {'IS_VARIABLE_IN': True}), ('mom', (4.0, -3.0, 1.0, 0.0, -1.0), {'HAS_UNIT': True}), ('mom', '((-mom*B*cos(theta)))', {'IS_VARIABLE_IN': True}), ('mom', '((g_*mom*B*Jz/(h/(2*pi))))', {'IS_VARIABLE_IN': True}), ('mom', '((n_0/(exp(mom*B/(kb*T))+exp(-mom*B/(kb*T)))))', {'IS_VARIABLE_IN': True}), ('mom', '((n_rho*mom*tanh(mom*B/(kb*T))))', {'IS_VARIABLE_IN': True}), ('mom', '((mom*H/(kb*T)+(mom*alpha)/(epsilon*c**2*kb*T)*M))', {'IS_VARIABLE_IN': True}), ('mom', '((mom*(1+chi)*B))', {'IS_VARIABLE_IN': True}), ('mom', '((2*mom*B/(h/(2*pi))))', {'IS_VARIABLE_IN': True}), ('mom', '((mom*sqrt(Bx**2+By**2+Bz**2)))', {'IS_VARIABLE_IN': True}), ('mu', (0.0, 0.0, 0.0, 0.0, 0.0), {'HAS_UNIT': True}), ('mu', '((mu*Nn))', {'IS_VARIABLE_IN': True}), ('mu_drift', (0.0, -1.0, 1.0, 0.0, 0.0), {'HAS_UNIT': True}), ('mu_drift', '((mu_drift*q*Volt/d))', {'IS_VARIABLE_IN': True}), ('Nn', (1.0, -2.0, 1.0, 0.0, 0.0), {'HAS_UNIT': True}), ('Nn', '((mu*Nn))', {'IS_VARIABLE_IN': True}), ('n', (0.0, 0.0, 0.0, 0.0, 0.0), {'HAS_UNIT': True}), ('n', '((1/(1/d1+n/d2)))', {'IS_VARIABLE_IN': True}), ('n', '((n*kb*T/V))', {'IS_VARIABLE_IN': True}), ('n', '((n*kb*T*ln(V2/V1)))', {'IS_VARIABLE_IN': True}), ('n', '((n*alpha/(1-(n*alpha/3))*epsilon*Ef))', {'IS_VARIABLE_IN': True}), ('n', '((1+n*alpha/(1-(n*alpha/3))))', {'IS_VARIABLE_IN': True}), ('n', '((n*(h/(2*pi))))', {'IS_VARIABLE_IN': True}), ('n', '((2*pi*alpha/(n*d)))', {'IS_VARIABLE_IN': True}), ('n_rho', (-3.0, 0.0, 0.0, 0.0, 0.0), {'HAS_UNIT': True}), ('n_rho', '((n_rho*p_d**2*Ef/(3*kb*T)))', {'IS_VARIABLE_IN': True}), ('n_rho', '((n_rho*mom*tanh(mom*B/(kb*T))))', {'IS_VARIABLE_IN': True}), ('n_0', (0.0, 0.0, 0.0, 0.0, 0.0), {'HAS_UNIT': True}), ('n_0', '((n_0*exp(-m*g*x/(kb*T))))', {'IS_VARIABLE_IN': True}), ('n_0', '((n_0*(1+p_d*Ef*cos(theta)/(kb*T))))', {'IS_VARIABLE_IN': True}), ('n_0', '((n_0/(exp(mom*B/(kb*T))+exp(-mom*B/(kb*T)))))', {'IS_VARIABLE_IN': True}), ('omega', (0.0, -1.0, 0.0, 0.0, 0.0), {'HAS_UNIT': True}), ('omega', '((1/2*m*(omega**2+omega_0**2)*1/2*x**2))', {'IS_VARIABLE_IN': True}), ('omega', '((omega/c))', {'IS_VARIABLE_IN': True}), ('omega', '(((1/2*epsilon*c*Ef**2)*(8*pi*r**2/3)*(omega**4/(omega**2-omega_0**2)**2)))', {'IS_VARIABLE_IN': True}), ('omega', '(((h/(2*pi))*omega))', {'IS_VARIABLE_IN': True}), ('omega', '((h/(2*pi)*omega**3/(pi**2*c**2*(exp((h/(2*pi))*omega/(kb*T))-1))))', {'IS_VARIABLE_IN': True}), ('omega', '((x1*(cos(omega*t)+alpha*cos(omega*t)**2)))', {'IS_VARIABLE_IN': True}), ('omega', '((sqrt(omega**2/c**2-pi**2/d**2)))', {'IS_VARIABLE_IN': True}), ('omega', '((1/(exp((h/(2*pi))*omega/(kb*T))-1)))', {'IS_VARIABLE_IN': True}), ('omega', '(((h/(2*pi))*omega/(exp((h/(2*pi))*omega/(kb*T))-1)))', {'IS_VARIABLE_IN': True}), ('omega', '(((p_d*Ef*t/(h/(2*pi)))*sin((omega-omega_0)*t/2)**2/((omega-omega_0)*t/2)**2))', {'IS_VARIABLE_IN': True}), ('omega_0', (0.0, -1.0, 0.0, 0.0, 0.0), {'HAS_UNIT': True}), ('omega_0', '((1/2*m*(omega**2+omega_0**2)*1/2*x**2))', {'IS_VARIABLE_IN': True}), ('omega_0', '(((1/2*epsilon*c*Ef**2)*(8*pi*r**2/3)*(omega**4/(omega**2-omega_0**2)**2)))', {'IS_VARIABLE_IN': True}), ('omega_0', '((omega_0/(1-v/c)))', {'IS_VARIABLE_IN': True}), ('omega_0', '(((1+v/c)/sqrt(1-v**2/c**2)*omega_0))', {'IS_VARIABLE_IN': True}), ('omega_0', '((q*Ef/(m*(omega_0**2-omega**2))))', {'IS_VARIABLE_IN': True}), ('omega_0', '(((p_d*Ef*t/(h/(2*pi)))*sin((omega-omega_0)*t/2)**2/((omega-omega_0)*t/2)**2))', {'IS_VARIABLE_IN': True}), ('p', (1.0, -1.0, 1.0, 0.0, 0.0), {'HAS_UNIT': True}), ('p', '((q*v*B/p))', {'IS_VARIABLE_IN': True}), ('Pol', (0.0, -2.0, 1.0, 0.0, -1.0), {'HAS_UNIT': True}), ('p_d', (3.0, -2.0, 1.0, 0.0, -1.0), {'HAS_UNIT': True}), ('p_d', '((1/(4*pi*epsilon)*p_d*cos(theta)/r**2))', {'IS_VARIABLE_IN': True}), ('p_d', '((p_d/(4*pi*epsilon)*3*z/r**5*sqrt(x**2+y**2)))', {'IS_VARIABLE_IN': True}), ('p_d', '((p_d/(4*pi*epsilon)*3*cos(theta)*sin(theta)/r**3))', {'IS_VARIABLE_IN': True}), ('p_d', '((n_0*(1+p_d*Ef*cos(theta)/(kb*T))))', {'IS_VARIABLE_IN': True}), ('p_d', '((n_rho*p_d**2*Ef/(3*kb*T)))', {'IS_VARIABLE_IN': True}), ('p_d', '((-p_d*Ef*cos(theta)))', {'IS_VARIABLE_IN': True}), ('p_d', '(((p_d*Ef*t/(h/(2*pi)))*sin((omega-omega_0)*t/2)**2/((omega-omega_0)*t/2)**2))', {'IS_VARIABLE_IN': True}), ('Pwr', (2.0, -3.0, 1.0, 0.0, 0.0), {'HAS_UNIT': True}), ('Pwr', '((Pwr/(4*pi*r**2)))', {'IS_VARIABLE_IN': True}), ('pr', (-1.0, -2.0, 1.0, 0.0, 0.0), {'HAS_UNIT': True}), ('pr', '((3/2*pr*V))', {'IS_VARIABLE_IN': True}), ('pr', '((1/(gamma-1)*pr*V))', {'IS_VARIABLE_IN': True}), ('pr', '((sqrt(gamma*pr/rho)))', {'IS_VARIABLE_IN': True}), ('prob', (0.0, 0.0, 0.0, 0.0, 0.0), {'HAS_UNIT': True}), ('q', (2.0, -2.0, 1.0, 0.0, -1.0), {'HAS_UNIT': True}), ('q', '((q*(Ef+B*v*sin(theta))))', {'IS_VARIABLE_IN': True}), ('q', '((q/C))', {'IS_VARIABLE_IN': True}), ('q', '((q**2*a**2/(6*pi*epsilon*c**3)))', {'IS_VARIABLE_IN': True}), ('q', '((q*v*B/p))', {'IS_VARIABLE_IN': True}), ('q', '((4*pi*epsilon*(h/(2*pi))**2/(m*q**2)))', {'IS_VARIABLE_IN': True}), ('q', '((mu_drift*q*Volt/d))', {'IS_VARIABLE_IN': True}), ('q', '((q/(4*pi*epsilon*r)))', {'IS_VARIABLE_IN': True}), ('q', '((3/5*q**2/(4*pi*epsilon*d)))', {'IS_VARIABLE_IN': True}), ('q', '((q*Ef/(m*(omega_0**2-omega**2))))', {'IS_VARIABLE_IN': True}), ('q', '((q/(4*pi*epsilon*r*(1-v/c))))', {'IS_VARIABLE_IN': True}), ('q', '((q*v/(2*pi*r)))', {'IS_VARIABLE_IN': True}), ('q', '((q*v*r/2))', {'IS_VARIABLE_IN': True}), ('q', '((g_*q*B/(2*m)))', {'IS_VARIABLE_IN': True}), ('q', '((q*h/(4*pi*m)))', {'IS_VARIABLE_IN': True}), ('q', '((I_0*(exp(q*Volt/(kb*T))-1)))', {'IS_VARIABLE_IN': True}), ('q', '((-m*q**4/(2*(4*pi*epsilon)**2*(h/(2*pi))**2)*(1/n**2)))', {'IS_VARIABLE_IN': True}), ('q', '((-rho_c_0*q*A_vec/m))', {'IS_VARIABLE_IN': True}), ('q1', (2.0, -2.0, 1.0, 0.0, -1.0), {'HAS_UNIT': True}), ('q1', '((q1*q2*r/(4*pi*epsilon*r**3)))', {'IS_VARIABLE_IN': True}), ('q1', '((q1*r/(4*pi*epsilon*r**3)))', {'IS_VARIABLE_IN': True}), ('q2', (2.0, -2.0, 1.0, 0.0, -1.0), {'HAS_UNIT': True}), ('q2', '((q1*q2*r/(4*pi*epsilon*r**3)))', {'IS_VARIABLE_IN': True}), ('q2', '((q2*Ef))', {'IS_VARIABLE_IN': True}), ('r', (1.0, 0.0, 0.0, 0.0, 0.0), {'HAS_UNIT': True}), ('r', '((q1*q2*r/(4*pi*epsilon*r**3)))', {'IS_VARIABLE_IN': True}), ('r', '((q1*r/(4*pi*epsilon*r**3)))', {'IS_VARIABLE_IN': True}), ('r', '((r*F*sin(theta)))', {'IS_VARIABLE_IN': True}), ('r', '((m*r*v*sin(theta)))', {'IS_VARIABLE_IN': True}), ('r', '(((1/2*epsilon*c*Ef**2)*(8*pi*r**2/3)*(omega**4/(omega**2-omega_0**2)**2)))', {'IS_VARIABLE_IN': True}), ('r', '((q/(4*pi*epsilon*r)))', {'IS_VARIABLE_IN': True}), ('r', '((1/(4*pi*epsilon)*p_d*cos(theta)/r**2))', {'IS_VARIABLE_IN': True}), ('r', '((p_d/(4*pi*epsilon)*3*z/r**5*sqrt(x**2+y**2)))', {'IS_VARIABLE_IN': True}), ('r', '((p_d/(4*pi*epsilon)*3*cos(theta)*sin(theta)/r**3))', {'IS_VARIABLE_IN': True}), ('r', '((1/(4*pi*epsilon*c**2)*2*I/r))', {'IS_VARIABLE_IN': True}), ('r', '((q/(4*pi*epsilon*r*(1-v/c))))', {'IS_VARIABLE_IN': True}), ('r', '((q*v/(2*pi*r)))', {'IS_VARIABLE_IN': True}), ('r', '((q*v*r/2))', {'IS_VARIABLE_IN': True}), ('R', (-2.0, 3.0, -1.0, 0.0, 2.0), {'HAS_UNIT': True}), ('r1', (1.0, 0.0, 0.0, 0.0, 0.0), {'HAS_UNIT': True}), ('r1', '((G*m1*m2*(1/r2-1/r1)))', {'IS_VARIABLE_IN': True}), ('r1', '(((m1*r1+m2*r2)/(m1+m2)))', {'IS_VARIABLE_IN': True}), ('r2', (1.0, 0.0, 0.0, 0.0, 0.0), {'HAS_UNIT': True}), ('r2', '((G*m1*m2*(1/r2-1/r1)))', {'IS_VARIABLE_IN': True}), ('r2', '(((m1*r1+m2*r2)/(m1+m2)))', {'IS_VARIABLE_IN': True}), ('rho', (-3.0, 0.0, 1.0, 0.0, 0.0), {'HAS_UNIT': True}), ('rho', '((sqrt(gamma*pr/rho)))', {'IS_VARIABLE_IN': True}), ('rho_c', (-1.0, -2.0, 1.0, 0.0, -1.0), {'HAS_UNIT': True}), ('rho_c_0', (-1.0, -2.0, 1.0, 0.0, -1.0), {'HAS_UNIT': True}), ('rho_c_0', '((rho_c_0/sqrt(1-v**2/c**2)))', {'IS_VARIABLE_IN': True}), ('rho_c_0', '((rho_c_0*v/sqrt(1-v**2/c**2)))', {'IS_VARIABLE_IN': True}), ('rho_c_0', '((-rho_c_0*q*A_vec/m))', {'IS_VARIABLE_IN': True}), ('rho_0', (-3.0, 0.0, 1.0, 0.0, 0.0), {'HAS_UNIT': True}), ('sigma', (0.0, 0.0, 0.0, 0.0, 0.0), {'HAS_UNIT': True}), ('sigma', '((exp(-(theta/sigma)**2/2)/(sqrt(2*pi)*sigma)))', {'IS_VARIABLE_IN': True}), ('sigma', '((exp(-((theta-theta1)/sigma)**2/2)/(sqrt(2*pi)*sigma)))', {'IS_VARIABLE_IN': True}), ('sigma', '((Y/(2*(1+sigma))))', {'IS_VARIABLE_IN': True}), ('sigma_den', (0.0, -2.0, 1.0, 0.0, -1.0), {'HAS_UNIT': True}), ('sigma_den', '((sigma_den/epsilon*1/(1+chi)))', {'IS_VARIABLE_IN': True}), ('t', (0.0, 1.0, 0.0, 0.0, 0.0), {'HAS_UNIT': True}), ('t', '(((x-u*t)/sqrt(1-u**2/c**2)))', {'IS_VARIABLE_IN': True}), ('t', '(((t-u*x/c**2)/sqrt(1-u**2/c**2)))', {'IS_VARIABLE_IN': True}), ('t', '((x1*(cos(omega*t)+alpha*cos(omega*t)**2)))', {'IS_VARIABLE_IN': True}), ('t', '((sin(E_n*t/(h/(2*pi)))**2))', {'IS_VARIABLE_IN': True}), ('t', '(((p_d*Ef*t/(h/(2*pi)))*sin((omega-omega_0)*t/2)**2/((omega-omega_0)*t/2)**2))', {'IS_VARIABLE_IN': True}), ('T', (0.0, 0.0, 0.0, 1.0, 0.0), {'HAS_UNIT': True}), ('T', '((n*kb*T/V))', {'IS_VARIABLE_IN': True}), ('T', '((n_0*exp(-m*g*x/(kb*T))))', {'IS_VARIABLE_IN': True}), ('T', '((h/(2*pi)*omega**3/(pi**2*c**2*(exp((h/(2*pi))*omega/(kb*T))-1))))', {'IS_VARIABLE_IN': True}), ('T', '((mob*kb*T))', {'IS_VARIABLE_IN': True}), ('T', '((n*kb*T*ln(V2/V1)))', {'IS_VARIABLE_IN': True}), ('T', '((n_0*(1+p_d*Ef*cos(theta)/(kb*T))))', {'IS_VARIABLE_IN': True}), ('T', '((n_rho*p_d**2*Ef/(3*kb*T)))', {'IS_VARIABLE_IN': True}), ('T', '((n_0/(exp(mom*B/(kb*T))+exp(-mom*B/(kb*T)))))', {'IS_VARIABLE_IN': True}), ('T', '((n_rho*mom*tanh(mom*B/(kb*T))))', {'IS_VARIABLE_IN': True}), ('T', '((mom*H/(kb*T)+(mom*alpha)/(epsilon*c**2*kb*T)*M))', {'IS_VARIABLE_IN': True}), ('T', '((1/(exp((h/(2*pi))*omega/(kb*T))-1)))', {'IS_VARIABLE_IN': True}), ('T', '(((h/(2*pi))*omega/(exp((h/(2*pi))*omega/(kb*T))-1)))', {'IS_VARIABLE_IN': True}), ('T', '((I_0*(exp(q*Volt/(kb*T))-1)))', {'IS_VARIABLE_IN': True}), ('t1', (0.0, 1.0, 0.0, 0.0, 0.0), {'HAS_UNIT': True}), ('T1', (0.0, 0.0, 0.0, 1.0, 0.0), {'HAS_UNIT': True}), ('T1', '((kappa*(T2-T1)*A/d))', {'IS_VARIABLE_IN': True}), ('T2', (0.0, 0.0, 0.0, 1.0, 0.0), {'HAS_UNIT': True}), ('T2', '((kappa*(T2-T1)*A/d))', {'IS_VARIABLE_IN': True}), ('tau', (2.0, -2.0, 1.0, 0.0, 0.0), {'HAS_UNIT': True}), ('theta', (0.0, 0.0, 0.0, 0.0, 0.0), {'HAS_UNIT': True}), ('theta', '((exp(-theta**2/2)/sqrt(2*pi)))', {'IS_VARIABLE_IN': True}), ('theta', '((exp(-(theta/sigma)**2/2)/(sqrt(2*pi)*sigma)))', {'IS_VARIABLE_IN': True}), ('theta', '((exp(-((theta-theta1)/sigma)**2/2)/(sqrt(2*pi)*sigma)))', {'IS_VARIABLE_IN': True}), ('theta', '((q*(Ef+B*v*sin(theta))))', {'IS_VARIABLE_IN': True}), ('theta', '((r*F*sin(theta)))', {'IS_VARIABLE_IN': True}), ('theta', '((m*r*v*sin(theta)))', {'IS_VARIABLE_IN': True}), ('theta', '((Int_0*sin(n*theta/2)**2/sin(theta/2)**2))', {'IS_VARIABLE_IN': True}), ('theta', '((1/(4*pi*epsilon)*p_d*cos(theta)/r**2))', {'IS_VARIABLE_IN': True}), ('theta', '((p_d/(4*pi*epsilon)*3*cos(theta)*sin(theta)/r**3))', {'IS_VARIABLE_IN': True}), ('theta', '((n_0*(1+p_d*Ef*cos(theta)/(kb*T))))', {'IS_VARIABLE_IN': True}), ('theta', '((-mom*B*cos(theta)))', {'IS_VARIABLE_IN': True}), ('theta', '((-p_d*Ef*cos(theta)))', {'IS_VARIABLE_IN': True}), ('theta', '((beta*(1+alpha*cos(theta))))', {'IS_VARIABLE_IN': True}), ('theta1', (0.0, 0.0, 0.0, 0.0, 0.0), {'HAS_UNIT': True}), ('theta1', '((exp(-((theta-theta1)/sigma)**2/2)/(sqrt(2*pi)*sigma)))', {'IS_VARIABLE_IN': True}), ('theta1', '((sqrt(x1**2+x2**2-2*x1*x2*cos(theta1-theta2))))', {'IS_VARIABLE_IN': True}), ('theta2', (0.0, 0.0, 0.0, 0.0, 0.0), {'HAS_UNIT': True}), ('theta2', '((arcsin(n*sin(theta2))))', {'IS_VARIABLE_IN': True}), ('theta2', '((sqrt(x1**2+x2**2-2*x1*x2*cos(theta1-theta2))))', {'IS_VARIABLE_IN': True}), ('U', (2.0, -2.0, 1.0, 0.0, 0.0), {'HAS_UNIT': True}), ('U', '((2*U*(1-cos(k*d))))', {'IS_VARIABLE_IN': True}), ('u', (1.0, -1.0, 0.0, 0.0, 0.0), {'HAS_UNIT': True}), ('u', '((1/2*m*(v**2+u**2+w**2)))', {'IS_VARIABLE_IN': True}), ('u', '(((x-u*t)/sqrt(1-u**2/c**2)))', {'IS_VARIABLE_IN': True}), ('u', '(((t-u*x/c**2)/sqrt(1-u**2/c**2)))', {'IS_VARIABLE_IN': True}), ('u', '(((u+v)/(1+u*v/c**2)))', {'IS_VARIABLE_IN': True}), ('v', (1.0, -1.0, 0.0, 0.0, 0.0), {'HAS_UNIT': True}), ('v', '((m_0/sqrt(1-v**2/c**2)))', {'IS_VARIABLE_IN': True}), ('v', '((q*(Ef+B*v*sin(theta))))', {'IS_VARIABLE_IN': True}), ('v', '((1/2*m*(v**2+u**2+w**2)))', {'IS_VARIABLE_IN': True}), ('v', '((m_0*v/sqrt(1-v**2/c**2)))', {'IS_VARIABLE_IN': True}), ('v', '(((u+v)/(1+u*v/c**2)))', {'IS_VARIABLE_IN': True}), ('v', '((m*r*v*sin(theta)))', {'IS_VARIABLE_IN': True}), ('v', '((q*v*B/p))', {'IS_VARIABLE_IN': True}), ('v', '((omega_0/(1-v/c)))', {'IS_VARIABLE_IN': True}), ('v', '(((1+v/c)/sqrt(1-v**2/c**2)*omega_0))', {'IS_VARIABLE_IN': True}), ('v', '((1/(gamma-1)*kb*v/A))', {'IS_VARIABLE_IN': True}), ('v', '((m*c**2/sqrt(1-v**2/c**2)))', {'IS_VARIABLE_IN': True}), ('v', '((rho_c_0/sqrt(1-v**2/c**2)))', {'IS_VARIABLE_IN': True}), ('v', '((rho_c_0*v/sqrt(1-v**2/c**2)))', {'IS_VARIABLE_IN': True}), ('v', '((q/(4*pi*epsilon*r*(1-v/c))))', {'IS_VARIABLE_IN': True}), ('v', '((q*v/(2*pi*r)))', {'IS_VARIABLE_IN': True}), ('v', '((q*v*r/2))', {'IS_VARIABLE_IN': True}), ('V', (3.0, 0.0, 0.0, 0.0, 0.0), {'HAS_UNIT': True}), ('V', '((3/2*pr*V))', {'IS_VARIABLE_IN': True}), ('V', '((1/(gamma-1)*pr*V))', {'IS_VARIABLE_IN': True}), ('V', '((n*kb*T/V))', {'IS_VARIABLE_IN': True}), ('v1', (1.0, -1.0, 0.0, 0.0, 0.0), {'HAS_UNIT': True}), ('V1', (3.0, 0.0, 0.0, 0.0, 0.0), {'HAS_UNIT': True}), ('V1', '((n*kb*T*ln(V2/V1)))', {'IS_VARIABLE_IN': True}), ('V2', (3.0, 0.0, 0.0, 0.0, 0.0), {'HAS_UNIT': True}), ('V2', '((n*kb*T*ln(V2/V1)))', {'IS_VARIABLE_IN': True}), ('Volt', (0.0, 0.0, 0.0, 0.0, 1.0), {'HAS_UNIT': True}), ('Volt', '((mu_drift*q*Volt/d))', {'IS_VARIABLE_IN': True}), ('Volt', '((I_0*(exp(q*Volt/(kb*T))-1)))', {'IS_VARIABLE_IN': True}), ('w', (1.0, -1.0, 0.0, 0.0, 0.0), {'HAS_UNIT': True}), ('w', '((1/2*m*(v**2+u**2+w**2)))', {'IS_VARIABLE_IN': True}), ('x', (1.0, 0.0, 0.0, 0.0, 0.0), {'HAS_UNIT': True}), ('x', '((1/2*k_spring*x**2))', {'IS_VARIABLE_IN': True}), ('x', '(((x-u*t)/sqrt(1-u**2/c**2)))', {'IS_VARIABLE_IN': True}), ('x', '(((t-u*x/c**2)/sqrt(1-u**2/c**2)))', {'IS_VARIABLE_IN': True}), ('x', '((1/2*m*(omega**2+omega_0**2)*1/2*x**2))', {'IS_VARIABLE_IN': True}), ('x', '((p_d/(4*pi*epsilon)*3*z/r**5*sqrt(x**2+y**2)))', {'IS_VARIABLE_IN': True}), ('x', '((Y*A*x/d))', {'IS_VARIABLE_IN': True}), ('x1', (1.0, 0.0, 0.0, 0.0, 0.0), {'HAS_UNIT': True}), ('x1', '((sqrt((x2-x1)**2+(y2-y1)**2)))', {'IS_VARIABLE_IN': True}), ('x1', '((G*m1*m2/((x2-x1)**2+(y2-y1)**2+(z2-z1)**2)))', {'IS_VARIABLE_IN': True}), ('x1', '((x1*y1+x2*y2+x3*y3))', {'IS_VARIABLE_IN': True}), ('x1', '((sqrt(x1**2+x2**2-2*x1*x2*cos(theta1-theta2))))', {'IS_VARIABLE_IN': True}), ('x1', '((x1*(cos(omega*t)+alpha*cos(omega*t)**2)))', {'IS_VARIABLE_IN': True}), ('x2', (1.0, 0.0, 0.0, 0.0, 0.0), {'HAS_UNIT': True}), ('x2', '((sqrt((x2-x1)**2+(y2-y1)**2)))', {'IS_VARIABLE_IN': True}), ('x2', '((G*m1*m2/((x2-x1)**2+(y2-y1)**2+(z2-z1)**2)))', {'IS_VARIABLE_IN': True}), ('x2', '((x1*y1+x2*y2+x3*y3))', {'IS_VARIABLE_IN': True}), ('x2', '((sqrt(x1**2+x2**2-2*x1*x2*cos(theta1-theta2))))', {'IS_VARIABLE_IN': True}), ('x3', (1.0, 0.0, 0.0, 0.0, 0.0), {'HAS_UNIT': True}), ('x3', '((x1*y1+x2*y2+x3*y3))', {'IS_VARIABLE_IN': True}), ('y', (1.0, 0.0, 0.0, 0.0, 0.0), {'HAS_UNIT': True}), ('y', '((p_d/(4*pi*epsilon)*3*z/r**5*sqrt(x**2+y**2)))', {'IS_VARIABLE_IN': True}), ('Y', (-1.0, -2.0, 1.0, 0.0, 0.0), {'HAS_UNIT': True}), ('Y', '((Y*A*x/d))', {'IS_VARIABLE_IN': True}), ('Y', '((Y/(2*(1+sigma))))', {'IS_VARIABLE_IN': True}), ('y1', (1.0, 0.0, 0.0, 0.0, 0.0), {'HAS_UNIT': True}), ('y1', '((sqrt((x2-x1)**2+(y2-y1)**2)))', {'IS_VARIABLE_IN': True}), ('y1', '((G*m1*m2/((x2-x1)**2+(y2-y1)**2+(z2-z1)**2)))', {'IS_VARIABLE_IN': True}), ('y1', '((x1*y1+x2*y2+x3*y3))', {'IS_VARIABLE_IN': True}), ('y2', (1.0, 0.0, 0.0, 0.0, 0.0), {'HAS_UNIT': True}), ('y2', '((sqrt((x2-x1)**2+(y2-y1)**2)))', {'IS_VARIABLE_IN': True}), ('y2', '((G*m1*m2/((x2-x1)**2+(y2-y1)**2+(z2-z1)**2)))', {'IS_VARIABLE_IN': True}), ('y2', '((x1*y1+x2*y2+x3*y3))', {'IS_VARIABLE_IN': True}), ('y3', (1.0, 0.0, 0.0, 0.0, 0.0), {'HAS_UNIT': True}), ('y3', '((x1*y1+x2*y2+x3*y3))', {'IS_VARIABLE_IN': True}), ('z', (1.0, 0.0, 0.0, 0.0, 0.0), {'HAS_UNIT': True}), ('z', '((m*g*z))', {'IS_VARIABLE_IN': True}), ('z', '((p_d/(4*pi*epsilon)*3*z/r**5*sqrt(x**2+y**2)))', {'IS_VARIABLE_IN': True}), ('z1', (1.0, 0.0, 0.0, 0.0, 0.0), {'HAS_UNIT': True}), ('z1', '((G*m1*m2/((x2-x1)**2+(y2-y1)**2+(z2-z1)**2)))', {'IS_VARIABLE_IN': True}), ('z2', (1.0, 0.0, 0.0, 0.0, 0.0), {'HAS_UNIT': True}), ('z2', '((G*m1*m2/((x2-x1)**2+(y2-y1)**2+(z2-z1)**2)))', {'IS_VARIABLE_IN': True}), ('mu_S', (-1.0, -2.0, 1.0, 0.0, 0.0), {'HAS_UNIT': True}), ('L_ind', (-2.0, 4.0, -1.0, 0.0, 2.0), {'HAS_UNIT': True}), ('Z_1', (0.0, 0.0, 0.0, 0.0, 0.0), {'HAS_UNIT': True}), ('Z_2', (0.0, 0.0, 0.0, 0.0, 0.0), {'HAS_UNIT': True}), ((0.0, 0.0, 0.0, 0.0, 1.0), 'Voltage', {'IS_ALSO': True}), ((0.0, 0.0, 0.0, 1.0, 0.0), 'Temperature', {'IS_ALSO': True}), ((0.0, 0.0, 1.0, 0.0, 0.0), 'Mass', {'IS_ALSO': True}), ((0.0, 1.0, 0.0, 0.0, 0.0), 'Τime', {'IS_ALSO': True}), ((1.0, 0.0, 0.0, 0.0, 0.0), 'Length', {'IS_ALSO': True}), ('((exp(-theta**2/2)/sqrt(2*pi)))', 'f', {'IS_EQUAL': True}), ('((exp(-(theta/sigma)**2/2)/(sqrt(2*pi)*sigma)))', 'f', {'IS_EQUAL': True}), ('((exp(-((theta-theta1)/sigma)**2/2)/(sqrt(2*pi)*sigma)))', 'f', {'IS_EQUAL': True}), ('((sqrt((x2-x1)**2+(y2-y1)**2)))', 'd', {'IS_EQUAL': True}), ('((G*m1*m2/((x2-x1)**2+(y2-y1)**2+(z2-z1)**2)))', 'F', {'IS_EQUAL': True}), ('((m_0/sqrt(1-v**2/c**2)))', 'm', {'IS_EQUAL': True}), ('((x1*y1+x2*y2+x3*y3))', 'A', {'IS_EQUAL': True}), ('((mu*Nn))', 'F', {'IS_EQUAL': True}), ('((q1*q2*r/(4*pi*epsilon*r**3)))', 'F', {'IS_EQUAL': True}), ('((q1*r/(4*pi*epsilon*r**3)))', 'Ef', {'IS_EQUAL': True}), ('((q2*Ef))', 'F', {'IS_EQUAL': True}), ('((q*(Ef+B*v*sin(theta))))', 'F', {'IS_EQUAL': True}), ('((1/2*m*(v**2+u**2+w**2)))', 'K', {'IS_EQUAL': True}), ('((G*m1*m2*(1/r2-1/r1)))', 'U', {'IS_EQUAL': True}), ('((m*g*z))', 'U', {'IS_EQUAL': True}), ('((1/2*k_spring*x**2))', 'U', {'IS_EQUAL': True}), ('(((x-u*t)/sqrt(1-u**2/c**2)))', 'x1', {'IS_EQUAL': True}), ('(((t-u*x/c**2)/sqrt(1-u**2/c**2)))', 't1', {'IS_EQUAL': True}), ('((m_0*v/sqrt(1-v**2/c**2)))', 'p', {'IS_EQUAL': True}), ('(((u+v)/(1+u*v/c**2)))', 'v1', {'IS_EQUAL': True}), ('(((m1*r1+m2*r2)/(m1+m2)))', 'r', {'IS_EQUAL': True}), ('((r*F*sin(theta)))', 'tau', {'IS_EQUAL': True}), ('((m*r*v*sin(theta)))', 'L', {'IS_EQUAL': True}), ('((1/2*m*(omega**2+omega_0**2)*1/2*x**2))', 'E_n', {'IS_EQUAL': True}), ('((q/C))', 'Volt', {'IS_EQUAL': True}), ('((arcsin(n*sin(theta2))))', 'theta1', {'IS_EQUAL': True}), ('((1/(1/d1+n/d2)))', 'foc', {'IS_EQUAL': True}), ('((omega/c))', 'k', {'IS_EQUAL': True}), ('((sqrt(x1**2+x2**2-2*x1*x2*cos(theta1-theta2))))', 'x', {'IS_EQUAL': True}), ('((Int_0*sin(n*theta/2)**2/sin(theta/2)**2))', 'Int', {'IS_EQUAL': True}), ('((arcsin(lambd/(n*d))))', 'theta', {'IS_EQUAL': True}), ('((q**2*a**2/(6*pi*epsilon*c**3)))', 'Pwr', {'IS_EQUAL': True}), ('(((1/2*epsilon*c*Ef**2)*(8*pi*r**2/3)*(omega**4/(omega**2-omega_0**2)**2)))', 'Pwr', {'IS_EQUAL': True}), ('((q*v*B/p))', 'omega', {'IS_EQUAL': True}), ('((omega_0/(1-v/c)))', 'omega', {'IS_EQUAL': True}), ('(((1+v/c)/sqrt(1-v**2/c**2)*omega_0))', 'omega', {'IS_EQUAL': True}), ('(((h/(2*pi))*omega))', 'E_n', {'IS_EQUAL': True}), ('((I1+I2+2*sqrt(I1*I2)*cos(delta)))', 'Int', {'IS_EQUAL': True}), ('((4*pi*epsilon*(h/(2*pi))**2/(m*q**2)))', 'r', {'IS_EQUAL': True}), ('((3/2*pr*V))', 'E_n', {'IS_EQUAL': True}), ('((1/(gamma-1)*pr*V))', 'E_n', {'IS_EQUAL': True}), ('((n*kb*T/V))', 'pr', {'IS_EQUAL': True}), ('((n_0*exp(-m*g*x/(kb*T))))', 'n', {'IS_EQUAL': True}), ('((h/(2*pi)*omega**3/(pi**2*c**2*(exp((h/(2*pi))*omega/(kb*T))-1))))', 'L_rad', {'IS_EQUAL': True}), ('((mu_drift*q*Volt/d))', 'v', {'IS_EQUAL': True}), ('((mob*kb*T))', 'D', {'IS_EQUAL': True}), ('((1/(gamma-1)*kb*v/A))', 'kappa', {'IS_EQUAL': True}), ('((n*kb*T*ln(V2/V1)))', 'E_n', {'IS_EQUAL': True}), ('((sqrt(gamma*pr/rho)))', 'c', {'IS_EQUAL': True}), ('((m*c**2/sqrt(1-v**2/c**2)))', 'E_n', {'IS_EQUAL': True}), ('((x1*(cos(omega*t)+alpha*cos(omega*t)**2)))', 'x', {'IS_EQUAL': True}), ('((kappa*(T2-T1)*A/d))', 'Pwr', {'IS_EQUAL': True}), ('((Pwr/(4*pi*r**2)))', 'flux', {'IS_EQUAL': True}), ('((q/(4*pi*epsilon*r)))', 'Volt', {'IS_EQUAL': True}), ('((1/(4*pi*epsilon)*p_d*cos(theta)/r**2))', 'Volt', {'IS_EQUAL': True}), ('((p_d/(4*pi*epsilon)*3*z/r**5*sqrt(x**2+y**2)))', 'Ef', {'IS_EQUAL': True}), ('((p_d/(4*pi*epsilon)*3*cos(theta)*sin(theta)/r**3))', 'Ef', {'IS_EQUAL': True}), ('((3/5*q**2/(4*pi*epsilon*d)))', 'E_n', {'IS_EQUAL': True}), ('((epsilon*Ef**2/2))', 'E_den', {'IS_EQUAL': True}), ('((sigma_den/epsilon*1/(1+chi)))', 'Ef', {'IS_EQUAL': True}), ('((q*Ef/(m*(omega_0**2-omega**2))))', 'x', {'IS_EQUAL': True}), ('((n_0*(1+p_d*Ef*cos(theta)/(kb*T))))', 'n', {'IS_EQUAL': True}), ('((n_rho*p_d**2*Ef/(3*kb*T)))', 'Pol', {'IS_EQUAL': True}), ('((n*alpha/(1-(n*alpha/3))*epsilon*Ef))', 'Pol', {'IS_EQUAL': True}), ('((1+n*alpha/(1-(n*alpha/3))))', 'theta', {'IS_EQUAL': True}), ('((1/(4*pi*epsilon*c**2)*2*I/r))', 'B', {'IS_EQUAL': True}), ('((rho_c_0/sqrt(1-v**2/c**2)))', 'rho_c', {'IS_EQUAL': True}), ('((rho_c_0*v/sqrt(1-v**2/c**2)))', 'j', {'IS_EQUAL': True}), ('((-mom*B*cos(theta)))', 'E_n', {'IS_EQUAL': True}), ('((-p_d*Ef*cos(theta)))', 'E_n', {'IS_EQUAL': True}), ('((q/(4*pi*epsilon*r*(1-v/c))))', 'Volt', {'IS_EQUAL': True}), ('((sqrt(omega**2/c**2-pi**2/d**2)))', 'k', {'IS_EQUAL': True}), ('((epsilon*c*Ef**2))', 'flux', {'IS_EQUAL': True}), ('((epsilon*Ef**2))', 'E_den', {'IS_EQUAL': True}), ('((q*v/(2*pi*r)))', 'I', {'IS_EQUAL': True}), ('((q*v*r/2))', 'mom', {'IS_EQUAL': True}), ('((g_*q*B/(2*m)))', 'omega', {'IS_EQUAL': True}), ('((q*h/(4*pi*m)))', 'mom', {'IS_EQUAL': True}), ('((g_*mom*B*Jz/(h/(2*pi))))', 'E_n', {'IS_EQUAL': True}), ('((n_0/(exp(mom*B/(kb*T))+exp(-mom*B/(kb*T)))))', 'n', {'IS_EQUAL': True}), ('((n_rho*mom*tanh(mom*B/(kb*T))))', 'M', {'IS_EQUAL': True}), ('((mom*H/(kb*T)+(mom*alpha)/(epsilon*c**2*kb*T)*M))', 'f', {'IS_EQUAL': True}), ('((mom*(1+chi)*B))', 'E_n', {'IS_EQUAL': True}), ('((Y*A*x/d))', 'F', {'IS_EQUAL': True}), ('((Y/(2*(1+sigma))))', 'mu_S', {'IS_EQUAL': True}), ('((1/(exp((h/(2*pi))*omega/(kb*T))-1)))', 'n', {'IS_EQUAL': True}), ('(((h/(2*pi))*omega/(exp((h/(2*pi))*omega/(kb*T))-1)))', 'E_n', {'IS_EQUAL': True}), ('((2*mom*B/(h/(2*pi))))', 'omega', {'IS_EQUAL': True}), ('((sin(E_n*t/(h/(2*pi)))**2))', 'prob', {'IS_EQUAL': True}), ('(((p_d*Ef*t/(h/(2*pi)))*sin((omega-omega_0)*t/2)**2/((omega-omega_0)*t/2)**2))', 'prob', {'IS_EQUAL': True}), ('((mom*sqrt(Bx**2+By**2+Bz**2)))', 'E_n', {'IS_EQUAL': True}), ('((n*(h/(2*pi))))', 'L', {'IS_EQUAL': True}), ('((2*E_n*d**2*k/(h/(2*pi))))', 'v', {'IS_EQUAL': True}), ('((I_0*(exp(q*Volt/(kb*T))-1)))', 'I', {'IS_EQUAL': True}), ('((2*U*(1-cos(k*d))))', 'E_n', {'IS_EQUAL': True}), ('(((h/(2*pi))**2/(2*E_n*d**2)))', 'm', {'IS_EQUAL': True}), ('((2*pi*alpha/(n*d)))', 'k', {'IS_EQUAL': True}), ('((beta*(1+alpha*cos(theta))))', 'f', {'IS_EQUAL': True}), ('((-m*q**4/(2*(4*pi*epsilon)**2*(h/(2*pi))**2)*(1/n**2)))', 'E_n', {'IS_EQUAL': True}), ('((-rho_c_0*q*A_vec/m))', 'j', {'IS_EQUAL': True})]\n"
     ]
    }
   ],
   "source": [
    "G = generate_graph(import_equations(), import_variables())\n",
    "print([x for x in G.nodes()])\n",
    "print([(x,y,z) for x,y,z in G.edges(data = True)])"
   ]
  },
  {
   "cell_type": "code",
   "execution_count": null,
   "metadata": {},
   "outputs": [],
   "source": []
  },
  {
   "cell_type": "code",
   "execution_count": null,
   "metadata": {},
   "outputs": [],
   "source": []
  },
  {
   "cell_type": "code",
   "execution_count": null,
   "metadata": {},
   "outputs": [],
   "source": []
  },
  {
   "cell_type": "code",
   "execution_count": null,
   "metadata": {},
   "outputs": [],
   "source": []
  },
  {
   "cell_type": "code",
   "execution_count": null,
   "metadata": {},
   "outputs": [],
   "source": []
  },
  {
   "cell_type": "code",
   "execution_count": null,
   "metadata": {},
   "outputs": [],
   "source": []
  },
  {
   "cell_type": "code",
   "execution_count": null,
   "metadata": {},
   "outputs": [],
   "source": []
  }
 ],
 "metadata": {
  "kernelspec": {
   "display_name": "Python 3",
   "language": "python",
   "name": "python3"
  },
  "language_info": {
   "codemirror_mode": {
    "name": "ipython",
    "version": 3
   },
   "file_extension": ".py",
   "mimetype": "text/x-python",
   "name": "python",
   "nbconvert_exporter": "python",
   "pygments_lexer": "ipython3",
   "version": "3.7.9"
  }
 },
 "nbformat": 4,
 "nbformat_minor": 4
}
