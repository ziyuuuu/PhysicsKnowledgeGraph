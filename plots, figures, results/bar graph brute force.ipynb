{
 "cells": [
  {
   "cell_type": "code",
   "execution_count": 1,
   "metadata": {},
   "outputs": [
    {
     "name": "stdout",
     "output_type": "stream",
     "text": [
      "                                                    0   1   2\n",
      "0                         exp(-theta**2/2)/sqrt(2*pi)  10  10\n",
      "1         exp(-(theta/sigma)**2/2)/(sqrt(2*pi)*sigma)  10  10\n",
      "2   exp(-((theta-theta1)/sigma)**2/2)/(sqrt(2*pi)*...  10  10\n",
      "3                         sqrt((x2-x1)**2+(y2-y1)**2)  10  10\n",
      "4          G*m1*m2/((x2-x1)**2+(y2-y1)**2+(z2-z1)**2)  10  10\n",
      "5                               m_0/sqrt(1-v**2/c**2)   8  10\n",
      "6                                   x1*y1+x2*y2+x3*y3  10  10\n",
      "7                                               mu*Nn  10  10\n",
      "8                         q1*q2*r/(4*pi*epsilon*r**3)  10  10\n",
      "9                            q1*r/(4*pi*epsilon*r**3)  10  10\n",
      "10                                              q2*Ef   0  10\n",
      "11                              q*(Ef+B*v*sin(theta))  10  10\n",
      "12                             1/2*m*(v**2+u**2+w**2)  10  10\n",
      "13                                G*m1*m2*(1/r2-1/r1)   1  10\n",
      "14                                              m*g*z  10  10\n",
      "15                                  1/2*k_spring*x**2  10  10\n",
      "16                          (x-u*t)/sqrt(1-u**2/c**2)   5  10\n",
      "17                     (t-u*x/c**2)/sqrt(1-u**2/c**2)   6  10\n",
      "18                            m_0*v/sqrt(1-v**2/c**2)   5  10\n",
      "19                                 (u+v)/(1+u*v/c**2)  10  10\n",
      "20                              (m1*r1+m2*r2)/(m1+m2)  10  10\n",
      "21                                     r*F*sin(theta)  10  10\n",
      "22                                   m*r*v*sin(theta)   7  10\n",
      "23               1/2*m*(omega**2+omega_0**2)*1/2*x**2  10  10\n",
      "24                                                q/C  10  10\n",
      "25                              arcsin(n*sin(theta2))   7  10\n",
      "26                                      1/(1/d1+n/d2)  10  10\n",
      "27                                            omega/c   0  10\n",
      "28       sqrt(x1**2+x2**2-2*x1*x2*cos(theta1-theta2))  10  10\n",
      "29            Int_0*sin(n*theta/2)**2/sin(theta/2)**2  10  10\n",
      "..                                                ...  ..  ..\n",
      "70                         q/(4*pi*epsilon*r*(1-v/c))   4  10\n",
      "71                     sqrt(omega**2/c**2-pi**2/d**2)   3  10\n",
      "72                                    epsilon*c*Ef**2  10  10\n",
      "73                                      epsilon*Ef**2  10  10\n",
      "74                                       q*v/(2*pi*r)  10  10\n",
      "75                                            q*v*r/2  10  10\n",
      "76                                       g_*q*B/(2*m)  10  10\n",
      "77                                       q*h/(4*pi*m)  10  10\n",
      "78                             g_*mom*B*Jz/(h/(2*pi))   9  10\n",
      "79         n_0/(exp(mom*B/(kb*T))+exp(-mom*B/(kb*T)))  10  10\n",
      "80                       n_rho*mom*tanh(mom*B/(kb*T))   8  10\n",
      "81     mom*H/(kb*T)+(mom*alpha)/(epsilon*c**2*kb*T)*M  10  10\n",
      "82                                      mom*(1+chi)*B   9  10\n",
      "83                                            Y*A*x/d   0  10\n",
      "84                                    Y/(2*(1+sigma))  10  10\n",
      "85                 1/(exp((h/(2*pi))*omega/(kb*T))-1)   9  10\n",
      "86  (h/(2*pi))*omega/(exp((h/(2*pi))*omega/(kb*T))-1)  10  10\n",
      "87                                 2*mom*B/(h/(2*pi))  10  10\n",
      "88                           sin(E_n*t/(h/(2*pi)))**2  10  10\n",
      "89  (p_d*Ef*t/(h/(2*pi)))*sin((omega-omega_0)*t/2)...   8  10\n",
      "90                        mom*sqrt(Bx**2+By**2+Bz**2)  10  10\n",
      "91                                       n*(h/(2*pi))   0  10\n",
      "92                            2*E_n*d**2*k/(h/(2*pi))   9  10\n",
      "93                         I_0*(exp(q*Volt/(kb*T))-1)   8  10\n",
      "94                                   2*U*(1-cos(k*d))  10  10\n",
      "95                         (h/(2*pi))**2/(2*E_n*d**2)  10  10\n",
      "96                                   2*pi*alpha/(n*d)  10  10\n",
      "97                          beta*(1+alpha*cos(theta))   9  10\n",
      "98  -m*q**4/(2*(4*pi*epsilon)**2*(h/(2*pi))**2)*(1...   0  10\n",
      "99                                 -rho_c_0*q*A_vec/m   0  10\n",
      "\n",
      "[100 rows x 3 columns]\n"
     ]
    }
   ],
   "source": [
    "import pandas as pd\n",
    "\n",
    "df = pd.read_csv(\"brute_force.csv\", header = None)\n",
    "print(df)"
   ]
  },
  {
   "cell_type": "code",
   "execution_count": 15,
   "metadata": {},
   "outputs": [
    {
     "name": "stdout",
     "output_type": "stream",
     "text": [
      "[13  2  0  3  2  5  7  3  4  6 55]\n"
     ]
    },
    {
     "data": {
      "image/png": "[encoded data removed]",
      "text/plain": [
       "<Figure size 432x158.4 with 1 Axes>"
      ]
     },
     "metadata": {
      "needs_background": "light"
     },
     "output_type": "display_data"
    }
   ],
   "source": [
    "import numpy as np\n",
    "import matplotlib.pyplot as plt\n",
    "data = df[1][:].values\n",
    "data_count = np.bincount(data)\n",
    "X = np.arange(11)\n",
    "\n",
    "\n",
    "plt.figure(figsize=(6,2.2))\n",
    "plt.bar(X, data_count, color =\"grey\")\n",
    "plt.xticks(X, X)\n",
    "for i, v in enumerate(data_count):\n",
    "    plt.text(i-0.15, v, str(v), color='black', fontweight='bold', fontsize = 'large')\n",
    "plt.ylabel('Frequency') \n",
    "plt.xlabel('Count') \n",
    "plt.ylim([0, 60])\n",
    "plt.savefig(\"bargraph_bruteforce.png\")\n",
    "# fig = plt.figure()\n",
    "# ax = fig.add_axes([0,0,1,1])\n",
    "# ax.bar(X + 0.00, data[0], color = 'b', width = 0.25)\n",
    "# ax.bar(X + 0.25, data[1], color = 'g', width = 0.25)\n",
    "# ax.bar(X + 0.50, data[2], color = 'r', width = 0.25)\n",
    "print(data_count)"
   ]
  },
  {
   "cell_type": "code",
   "execution_count": null,
   "metadata": {},
   "outputs": [],
   "source": []
  }
 ],
 "metadata": {
  "kernelspec": {
   "display_name": "Python 3",
   "language": "python",
   "name": "python3"
  },
  "language_info": {
   "codemirror_mode": {
    "name": "ipython",
    "version": 3
   },
   "file_extension": ".py",
   "mimetype": "text/x-python",
   "name": "python",
   "nbconvert_exporter": "python",
   "pygments_lexer": "ipython3",
   "version": "3.7.7"
  }
 },
 "nbformat": 4,
 "nbformat_minor": 4
}
